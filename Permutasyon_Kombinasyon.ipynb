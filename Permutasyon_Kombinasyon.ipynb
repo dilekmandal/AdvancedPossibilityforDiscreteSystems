{
  "nbformat": 4,
  "nbformat_minor": 0,
  "metadata": {
    "colab": {
      "name": "Permutasyon-Kombinasyon.ipynb",
      "provenance": [],
      "collapsed_sections": [],
      "authorship_tag": "ABX9TyOF0HsbA4hxWjYnMw9AWfHX",
      "include_colab_link": true
    },
    "kernelspec": {
      "name": "python3",
      "display_name": "Python 3"
    },
    "language_info": {
      "name": "python"
    }
  },
  "cells": [
    {
      "cell_type": "markdown",
      "metadata": {
        "id": "view-in-github",
        "colab_type": "text"
      },
      "source": [
        "<a href=\"https://colab.research.google.com/github/dilekmandal/Ayrik_Sistemler_icin_Ileri_Olasilik/blob/main/Permutasyon_Kombinasyon.ipynb\" target=\"_parent\"><img src=\"https://colab.research.google.com/assets/colab-badge.svg\" alt=\"Open In Colab\"/></a>"
      ]
    },
    {
      "cell_type": "markdown",
      "source": [
        "**Permütasyon**\n",
        "\n",
        "Permütasyon, her sembolün sadece bir kez ya da birkaç kez kullanıldığı sıralı bir dizidir. \n",
        "\n",
        "r ve n pozitif doğal sayılar ve r < n olmak üzere , n elemanlı bir A kümesinin r elemanlı sıralı r’lilerine A kümesinin r’li permütasyonları denir. \n",
        "\n",
        "n elemanlı A kümesinin r’li permütasyonlarının sayısı  **P(n, r) =  n! /(n − r)!** formülü ile bulunur.\n",
        "\n",
        "\n",
        "**Kombinasyon**\n",
        "\n",
        "Kombinasyon, bir nesne grubu içerisinden, sıra gözetmeksizin yapılan seçimlerdir.Diğer bir deyişle nesne grubuna karşılık gelen kümenin alt kümeleri olarak da adlandırılır. Çünkü, alt kümelerde sıra önemli değildir. O halde şöyle tanımlanabilir: Bir A kümesinin herhangi bir alt kümesine A kümesinin bir kombinasyonu denir.\n",
        "\n",
        "r ve n pozitif doğal sayılar ve r<=n olmak üzere, n elemanlı bir A kümesinin r elemanlı alt kümelerinin her birine, A kümesinin r'li kombinasyonları denir.\n",
        "\n",
        "n elemanlı A kümesinin r’li kombinasyonlarının sayısı  **C(n, r) =  n! /(n − r)!* r!** formülü ile bulunur."
      ],
      "metadata": {
        "id": "Jf1_prw6WlFu"
      }
    },
    {
      "cell_type": "code",
      "execution_count": 2,
      "metadata": {
        "colab": {
          "base_uri": "https://localhost:8080/"
        },
        "id": "jumAvxwg-1dA",
        "outputId": "e704bc69-86e1-4651-d0b7-d37a4c4b91fe"
      },
      "outputs": [
        {
          "output_type": "stream",
          "name": "stdout",
          "text": [
            "Permütasyon ve kombinasyon hesabı için lütfen sayıları giriniz\n",
            "Permütasyon ve kombinasyon hesaplanacak kümenin eleman sayısı: 3\n",
            "Kümeden seçilecek grupların eleman sayısı: 2\n",
            "\n",
            " 3 sayısının 2 li permütasyonlarının sayısı: 6.0\n",
            "\n",
            " 3 sayısının 2 li kombinasyonlarının sayısı: 3.0\n"
          ]
        }
      ],
      "source": [
        "def calculateFactorial(i):\n",
        "    \n",
        "    if i==1:       \n",
        "        return 1\n",
        "    \n",
        "    else: \n",
        "        return i * calculateFactorial(i-1)\n",
        "    \n",
        "def calculatePermutation(j,k):\n",
        "        \n",
        "    if k>j:     \n",
        "        print(\"Hesaplama Yapılamaz\")\n",
        "        \n",
        "    else:      \n",
        "        sonuc = calculateFactorial(j)/calculateFactorial(j-k)\n",
        "        return sonuc\n",
        "\n",
        "def calculateCombination(x,y):\n",
        "      \n",
        "    if y>x:     \n",
        "          print(\"Hesaplama Yapılamaz\")\n",
        "          \n",
        "    else:      \n",
        "          s = calculateFactorial(x)/ (calculateFactorial(x-y)*calculateFactorial(y))\n",
        "          return s\n",
        "\n",
        "    \n",
        "print(\"Permütasyon ve kombinasyon hesabı için lütfen sayıları giriniz\")   \n",
        " \n",
        "n1 = int(input(\"Permütasyon ve kombinasyon hesaplanacak kümenin eleman sayısı: \"))\n",
        " \n",
        "n2 = int(input(\"Kümeden seçilecek grupların eleman sayısı: \")) \n",
        " \n",
        "print(\"\\n\",n1, \"sayısının\", n2, \"li permütasyonlarının sayısı:\", calculatePermutation(n1,n2) )\n",
        "\n",
        "print(\"\\n\",n1, \"sayısının\", n2, \"li kombinasyonlarının sayısı:\", calculateCombination(n1,n2) )\n",
        "\n"
      ]
    },
    {
      "cell_type": "markdown",
      "source": [
        "Permütasyon sıralama çıktılarını görmek için Python’da standart (yüklü) olarak gelen **itertools** modülü kullanılabilir."
      ],
      "metadata": {
        "id": "bkAFSIQYWkLN"
      }
    },
    {
      "cell_type": "code",
      "source": [
        "import itertools\n",
        "list(itertools.combinations([\"A\",\"B\",\"C\"], 2))"
      ],
      "metadata": {
        "colab": {
          "base_uri": "https://localhost:8080/"
        },
        "id": "VmvVXlNxWj0M",
        "outputId": "9e7dbcff-b811-461e-df8d-f5bee6c0e30b"
      },
      "execution_count": 3,
      "outputs": [
        {
          "output_type": "execute_result",
          "data": {
            "text/plain": [
              "[('A', 'B'), ('A', 'C'), ('B', 'C')]"
            ]
          },
          "metadata": {},
          "execution_count": 3
        }
      ]
    },
    {
      "cell_type": "code",
      "source": [
        "import itertools\n",
        "list(itertools.permutations([\"A\",\"B\",\"C\"], 2))"
      ],
      "metadata": {
        "colab": {
          "base_uri": "https://localhost:8080/"
        },
        "id": "Ra0HNPjN1Wke",
        "outputId": "496f2c23-0b40-4fe8-f39f-3b85f2655761"
      },
      "execution_count": 4,
      "outputs": [
        {
          "output_type": "execute_result",
          "data": {
            "text/plain": [
              "[('A', 'B'), ('A', 'C'), ('B', 'A'), ('B', 'C'), ('C', 'A'), ('C', 'B')]"
            ]
          },
          "metadata": {},
          "execution_count": 4
        }
      ]
    },
    {
      "cell_type": "code",
      "source": [
        "list(itertools.permutations([\"A\",\"B\",\"C\"]))"
      ],
      "metadata": {
        "colab": {
          "base_uri": "https://localhost:8080/"
        },
        "id": "dBSnsutM1o4Q",
        "outputId": "529ed4a4-e952-4750-8b26-514a2977311f"
      },
      "execution_count": 5,
      "outputs": [
        {
          "output_type": "execute_result",
          "data": {
            "text/plain": [
              "[('A', 'B', 'C'),\n",
              " ('A', 'C', 'B'),\n",
              " ('B', 'A', 'C'),\n",
              " ('B', 'C', 'A'),\n",
              " ('C', 'A', 'B'),\n",
              " ('C', 'B', 'A')]"
            ]
          },
          "metadata": {},
          "execution_count": 5
        }
      ]
    },
    {
      "cell_type": "markdown",
      "source": [
        "**Problem:** 15 kişilik bir sınıftan proje yarışmasına katılmaları için 2 öğrenci seçilecektir. Bu seçimin kaç farklı şekilde yapılabilir?\n",
        "\n",
        "**Çözüm:** 15 kişi içinden 2 kişi seçmek kombinasyonla olur. Çünkü sıralama önemli değil, önemli olan seçim.Sorunun cevabı 15'in 2'li kombinasyonudur.\n",
        "\n",
        "15 kişiden 2 kişi (15\\2) farklı biçimde seçilebilir.\n",
        "\n",
        "(15\\2) = 15! / (15−2)!.2! = 15! / 13!.2! = 15.14.13! / 13!.2! = 105 farklı seçim yapılabilir."
      ],
      "metadata": {
        "id": "ZQEvesD51gRw"
      }
    },
    {
      "cell_type": "code",
      "source": [
        "calculateCombination(15,2)"
      ],
      "metadata": {
        "colab": {
          "base_uri": "https://localhost:8080/"
        },
        "id": "0IdUCRCHNKUI",
        "outputId": "9ab41926-88d2-476e-ba0e-e765e8465d97"
      },
      "execution_count": null,
      "outputs": [
        {
          "output_type": "execute_result",
          "data": {
            "text/plain": [
              "105.0"
            ]
          },
          "metadata": {},
          "execution_count": 6
        }
      ]
    },
    {
      "cell_type": "markdown",
      "source": [
        "**Problem:** 10 erkek 12 kız arasından 3 kişi kaç farklı şekilde seçilebilir?\n",
        "\n",
        "\n",
        "**Çözüm:**Herhangi bir şart bulunmadığı için 22 kişi arasından 3 kişi seçeceğiz.Yani 22'nin 3'lü kombinasyonunu hesaplayacağız.\n",
        "\n",
        "(22\\3) = 22!/(22−3)!.3! = 22!/19!.3! = 22.21.20.19!/19!.3! = 1540 farklı seçim yapılabilir.\n"
      ],
      "metadata": {
        "id": "rjedzuVdNlMO"
      }
    },
    {
      "cell_type": "code",
      "source": [
        "calculateCombination(22,3)"
      ],
      "metadata": {
        "colab": {
          "base_uri": "https://localhost:8080/"
        },
        "id": "5qwuw6-lN8t-",
        "outputId": "b0629ebe-919f-4cf7-cb18-b12ddc8c37d1"
      },
      "execution_count": null,
      "outputs": [
        {
          "output_type": "execute_result",
          "data": {
            "text/plain": [
              "1540.0"
            ]
          },
          "metadata": {},
          "execution_count": 7
        }
      ]
    },
    {
      "cell_type": "markdown",
      "source": [
        "**Problem:** 10 kişi herkes birbiriyle tokalaşmak şartıyla kaç tokalaşma gerçekleştirir?\n",
        "\n",
        "**Çözüm:** Tokalaşma 2 kişi arasında gerçekleşir. Bu nedenle bulmamız gereken 10'nun 2'li kombinasyonlarıdır.\n",
        "C(10,2) = 45 tokalaşma gerçekleşir."
      ],
      "metadata": {
        "id": "SucRghdTPKz1"
      }
    },
    {
      "cell_type": "code",
      "source": [
        "calculateCombination(10,2)"
      ],
      "metadata": {
        "colab": {
          "base_uri": "https://localhost:8080/"
        },
        "id": "Mq_nxzAkPrSC",
        "outputId": "45a90c6a-ec40-4cae-eef4-828f60b09978"
      },
      "execution_count": null,
      "outputs": [
        {
          "output_type": "execute_result",
          "data": {
            "text/plain": [
              "45.0"
            ]
          },
          "metadata": {},
          "execution_count": 8
        }
      ]
    },
    {
      "cell_type": "markdown",
      "source": [
        "**Problem:** Birbirinden farklı 4 yeşil, 2 siyah kalem, bir kalemliğe dizilerek yerleştirilecektir. Kaç farklı biçimde dizilebilir?\n",
        "\n",
        "**Çözüm:** Kalemlerin yerleştirilmesinde herhangi bir renk şartı bulunmadığı için 4 + 2 = 6 kalemin kaç farklı şekilde dizileceğini buluruz.\n",
        "6 kalem 6! = 6.5.4.3.2.1 = 720 farklı şekilde dizilebilir."
      ],
      "metadata": {
        "id": "zHSld6tUQOgv"
      }
    },
    {
      "cell_type": "code",
      "source": [
        "calculateFactorial(6)"
      ],
      "metadata": {
        "colab": {
          "base_uri": "https://localhost:8080/"
        },
        "id": "DJY_DzgfQbMT",
        "outputId": "7766d1de-59ea-4a6c-a3df-ebbd55af6476"
      },
      "execution_count": null,
      "outputs": [
        {
          "output_type": "execute_result",
          "data": {
            "text/plain": [
              "720"
            ]
          },
          "metadata": {},
          "execution_count": 9
        }
      ]
    },
    {
      "cell_type": "markdown",
      "source": [
        "**Problem:** 5 arkadaştan ikisi küstür. 5 kişilik bir bankta oturmak istiyorlar. İki küs arkadaş yan yana gelmemek koşulu ile kaç değişik biçimde otururlar ?\n",
        "\n",
        "**Çözüm:** Önce iki kişi yan yana olmak koşulu ile oturabilme bulunur.Bunun için 2 kişi 1 kişi olarak düşünülür. Bu sayı 2!4! dir.\n",
        "\n",
        " 5 öğrenci bu banka 5! değişik biçimde otururlar. Bu sayıdan yan yana oturma sayısını çıkarırsak; yan yana oturmama sayısı bulunur.\n",
        "\n",
        "5! – 2!4! = 120 – 48 = 72 değişik biçimde otururlar."
      ],
      "metadata": {
        "id": "oWyQ5_1BTF69"
      }
    },
    {
      "cell_type": "code",
      "source": [
        "kusleryanyana = calculateFactorial(2) * calculateFactorial(4)\n",
        "tumu = calculateFactorial(5)\n",
        "\n",
        "sonuc = tumu - kusleryanyana\n",
        "print(sonuc)"
      ],
      "metadata": {
        "colab": {
          "base_uri": "https://localhost:8080/"
        },
        "id": "I2-UWIFATe9W",
        "outputId": "316d3229-234a-48b9-f279-403feec8a7d5"
      },
      "execution_count": null,
      "outputs": [
        {
          "output_type": "stream",
          "name": "stdout",
          "text": [
            "72\n"
          ]
        }
      ]
    }
  ]
}