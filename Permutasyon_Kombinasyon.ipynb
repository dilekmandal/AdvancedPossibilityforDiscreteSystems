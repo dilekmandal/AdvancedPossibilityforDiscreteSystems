{
  "nbformat": 4,
  "nbformat_minor": 0,
  "metadata": {
    "colab": {
      "name": "Permutasyon-Kombinasyon.ipynb",
      "provenance": [],
      "collapsed_sections": []
    },
    "kernelspec": {
      "name": "python3",
      "display_name": "Python 3"
    },
    "language_info": {
      "name": "python"
    }
  },
  "cells": [
    {
      "cell_type": "markdown",
      "source": [
        "**Permütasyon**\n",
        "\n",
        "Permütasyon, her sembolün sadece bir kez ya da birkaç kez kullanıldığı sıralı bir dizidir. \n",
        "\n",
        "r ve n pozitif doğal sayılar ve r < n olmak üzere , n elemanlı bir A kümesinin r elemanlı sıralı r’lilerine A kümesinin r’li permütasyonları denir. \n",
        "\n",
        "n elemanlı A kümesinin r’li permütasyonlarının sayısı  **P(n, r) =  n! /(n − r)!** formülü ile bulunur."
      ],
      "metadata": {
        "id": "Jf1_prw6WlFu"
      }
    },
    {
      "cell_type": "code",
      "execution_count": null,
      "metadata": {
        "colab": {
          "base_uri": "https://localhost:8080/"
        },
        "id": "jumAvxwg-1dA",
        "outputId": "d4a58004-0be2-4e62-bb5e-7a9b819ea821"
      },
      "outputs": [
        {
          "output_type": "stream",
          "name": "stdout",
          "text": [
            "Permütasyon ve kombinasyon hesabı için lütfen sayıları giriniz\n",
            "Permütasyon ve kombinasyon hesaplanacak kümenin eleman sayısı: 3\n",
            "Kümeden seçilecek grupların eleman sayısı: 2\n",
            "\n",
            " 3 sayısının 2 li permütasyonlarının sayısı: 6.0\n",
            "\n",
            " 3 sayısının 2 li kombinasyonlarının sayısı: 3.0\n"
          ]
        }
      ],
      "source": [
        "def calculateFactorial(i):\n",
        "    \n",
        "    if i==1:       \n",
        "        return 1\n",
        "    \n",
        "    else: \n",
        "        return i * calculateFactorial(i-1)\n",
        "    \n",
        "def calculatePermutation(j,k):\n",
        "    \n",
        "    l = 0\n",
        "    \n",
        "    if k>j:        \n",
        "        l = l\n",
        "        print(\"Hesaplama Yapılamaz\")\n",
        "        \n",
        "    else:      \n",
        "        l = calculateFactorial(j)/calculateFactorial(j-k)\n",
        "        return l\n",
        "\n",
        "def calculateCombination(x,y):\n",
        "\n",
        "    s = 0\n",
        "      \n",
        "    if y>x:        \n",
        "          s = s\n",
        "          print(\"Hesaplama Yapılamaz\")\n",
        "          \n",
        "    else:      \n",
        "          s = calculateFactorial(x)/ (calculateFactorial(x-y)*calculateFactorial(y))\n",
        "          return s\n",
        "\n",
        "    \n",
        "print(\"Permütasyon ve kombinasyon hesabı için lütfen sayıları giriniz\")   \n",
        " \n",
        "n1 = int(input(\"Permütasyon ve kombinasyon hesaplanacak kümenin eleman sayısı: \"))\n",
        " \n",
        "n2 = int(input(\"Kümeden seçilecek grupların eleman sayısı: \")) \n",
        " \n",
        "print(\"\\n\",n1, \"sayısının\", n2, \"li permütasyonlarının sayısı:\", calculatePermutation(n1,n2) )\n",
        "\n",
        "print(\"\\n\",n1, \"sayısının\", n2, \"li kombinasyonlarının sayısı:\", calculateCombination(n1,n2) )\n",
        "\n"
      ]
    },
    {
      "cell_type": "markdown",
      "source": [
        "Permütasyon sıralama çıktılarını görmek için Python’da standart (yüklü) olarak gelen **itertools** modülü kullanılabilir."
      ],
      "metadata": {
        "id": "bkAFSIQYWkLN"
      }
    },
    {
      "cell_type": "code",
      "source": [
        "import itertools\n",
        "list(itertools.combinations([\"A\",\"B\",\"C\"], 2))"
      ],
      "metadata": {
        "colab": {
          "base_uri": "https://localhost:8080/"
        },
        "id": "VmvVXlNxWj0M",
        "outputId": "44cfd108-3cb5-4f20-8bd6-59b019a3b54f"
      },
      "execution_count": null,
      "outputs": [
        {
          "output_type": "execute_result",
          "data": {
            "text/plain": [
              "[('A', 'B'), ('A', 'C'), ('B', 'C')]"
            ]
          },
          "metadata": {},
          "execution_count": 3
        }
      ]
    },
    {
      "cell_type": "code",
      "source": [
        "import itertools\n",
        "list(itertools.permutations([\"A\",\"B\",\"C\"], 2))"
      ],
      "metadata": {
        "colab": {
          "base_uri": "https://localhost:8080/"
        },
        "id": "Ra0HNPjN1Wke",
        "outputId": "1a817819-5445-4d5e-abc1-aebfabf4ac14"
      },
      "execution_count": null,
      "outputs": [
        {
          "output_type": "execute_result",
          "data": {
            "text/plain": [
              "[('A', 'B'), ('A', 'C'), ('B', 'A'), ('B', 'C'), ('C', 'A'), ('C', 'B')]"
            ]
          },
          "metadata": {},
          "execution_count": 4
        }
      ]
    },
    {
      "cell_type": "code",
      "source": [
        "list(itertools.permutations([\"A\",\"B\",\"C\"]))"
      ],
      "metadata": {
        "colab": {
          "base_uri": "https://localhost:8080/"
        },
        "id": "dBSnsutM1o4Q",
        "outputId": "c03367b4-2ee5-4634-f98e-519852c241c3"
      },
      "execution_count": null,
      "outputs": [
        {
          "output_type": "execute_result",
          "data": {
            "text/plain": [
              "[('A', 'B', 'C'),\n",
              " ('A', 'C', 'B'),\n",
              " ('B', 'A', 'C'),\n",
              " ('B', 'C', 'A'),\n",
              " ('C', 'A', 'B'),\n",
              " ('C', 'B', 'A')]"
            ]
          },
          "metadata": {},
          "execution_count": 5
        }
      ]
    },
    {
      "cell_type": "markdown",
      "source": [
        "**Problem:** 15 kişilik bir sınıftan proje yarışmasına katılmaları için 2 öğrenci seçilecektir. Bu seçimin kaç farklı şekilde yapılabilir?\n",
        "\n",
        "**Çözüm:** 15 kişi içinden 2 kişi seçmek kombinasyonla olur. Çünkü sıralama önemli değil, önemli olan seçim.Sorunun cevabı 15'in 2'li kombinasyonudur.\n",
        "\n",
        "15 kişiden 2 kişi (15\\2) farklı biçimde seçilebilir.\n",
        "\n",
        "(15\\2) = 15! / (15−2)!.2! = 15! / 13!.2! = 15.14.13! / 13!.2! = 105 farklı seçim yapılabilir."
      ],
      "metadata": {
        "id": "ZQEvesD51gRw"
      }
    },
    {
      "cell_type": "code",
      "source": [
        "calculateCombination(15,2)"
      ],
      "metadata": {
        "colab": {
          "base_uri": "https://localhost:8080/"
        },
        "id": "0IdUCRCHNKUI",
        "outputId": "9ab41926-88d2-476e-ba0e-e765e8465d97"
      },
      "execution_count": null,
      "outputs": [
        {
          "output_type": "execute_result",
          "data": {
            "text/plain": [
              "105.0"
            ]
          },
          "metadata": {},
          "execution_count": 6
        }
      ]
    },
    {
      "cell_type": "markdown",
      "source": [
        "**Problem:** 10 erkek 12 kız arasından 3 kişi kaç farklı şekilde seçilebilir?\n",
        "\n",
        "\n",
        "**Çözüm:**Herhangi bir şart bulunmadığı için 22 kişi arasından 3 kişi seçeceğiz.Yani 22'nin 3'lü kombinasyonunu hesaplayacağız.\n",
        "\n",
        "(22\\3) = 22!/(22−3)!.3! = 22!/19!.3! = 22.21.20.19!/19!.3! = 1540 farklı seçim yapılabilir.\n"
      ],
      "metadata": {
        "id": "rjedzuVdNlMO"
      }
    },
    {
      "cell_type": "code",
      "source": [
        "calculateCombination(22,3)"
      ],
      "metadata": {
        "colab": {
          "base_uri": "https://localhost:8080/"
        },
        "id": "5qwuw6-lN8t-",
        "outputId": "b0629ebe-919f-4cf7-cb18-b12ddc8c37d1"
      },
      "execution_count": null,
      "outputs": [
        {
          "output_type": "execute_result",
          "data": {
            "text/plain": [
              "1540.0"
            ]
          },
          "metadata": {},
          "execution_count": 7
        }
      ]
    },
    {
      "cell_type": "markdown",
      "source": [
        "**Problem:** 10 kişi herkes birbiriyle tokalaşmak şartıyla kaç tokalaşma gerçekleştirir?\n",
        "\n",
        "**Çözüm:** Tokalaşma 2 kişi arasında gerçekleşir. Bu nedenle bulmamız gereken 10'nun 2'li kombinasyonlarıdır.\n",
        "C(10,2) = 45 tokalaşma gerçekleşir."
      ],
      "metadata": {
        "id": "SucRghdTPKz1"
      }
    },
    {
      "cell_type": "code",
      "source": [
        "calculateCombination(10,2)"
      ],
      "metadata": {
        "colab": {
          "base_uri": "https://localhost:8080/"
        },
        "id": "Mq_nxzAkPrSC",
        "outputId": "45a90c6a-ec40-4cae-eef4-828f60b09978"
      },
      "execution_count": null,
      "outputs": [
        {
          "output_type": "execute_result",
          "data": {
            "text/plain": [
              "45.0"
            ]
          },
          "metadata": {},
          "execution_count": 8
        }
      ]
    },
    {
      "cell_type": "markdown",
      "source": [
        "**Problem:** Birbirinden farklı 4 yeşil, 2 siyah kalem, bir kalemliğe dizilerek yerleştirilecektir. Kaç farklı biçimde dizilebilir?\n",
        "\n",
        "**Çözüm:** Kalemlerin yerleştirilmesinde herhangi bir renk şartı bulunmadığı için 4 + 2 = 6 kalemin kaç farklı şekilde dizileceğini buluruz.\n",
        "6 kalem 6! = 6.5.4.3.2.1 = 720 farklı şekilde dizilebilir."
      ],
      "metadata": {
        "id": "zHSld6tUQOgv"
      }
    },
    {
      "cell_type": "code",
      "source": [
        "calculateFactorial(6)"
      ],
      "metadata": {
        "colab": {
          "base_uri": "https://localhost:8080/"
        },
        "id": "DJY_DzgfQbMT",
        "outputId": "7766d1de-59ea-4a6c-a3df-ebbd55af6476"
      },
      "execution_count": null,
      "outputs": [
        {
          "output_type": "execute_result",
          "data": {
            "text/plain": [
              "720"
            ]
          },
          "metadata": {},
          "execution_count": 9
        }
      ]
    },
    {
      "cell_type": "markdown",
      "source": [
        "**Problem:** 5 arkadaştan ikisi küstür. 5 kişilik bir bankta oturmak istiyorlar. İki küs arkadaş yan yana gelmemek koşulu ile kaç değişik biçimde otururlar ?\n",
        "\n",
        "**Çözüm:** Önce iki kişi yan yana olmak koşulu ile oturabilme bulunur.Bunun için 2 kişi 1 kişi olarak düşünülür. Bu sayı 2!4! dir.\n",
        "\n",
        " 5 öğrenci bu banka 5! değişik biçimde otururlar. Bu sayıdan yan yana oturma sayısını çıkarırsak; yan yana oturmama sayısı bulunur.\n",
        "\n",
        "5! – 2!4! = 120 – 48 = 72 değişik biçimde otururlar."
      ],
      "metadata": {
        "id": "oWyQ5_1BTF69"
      }
    },
    {
      "cell_type": "code",
      "source": [
        "kusleryanyana = calculateFactorial(2) * calculateFactorial(4)\n",
        "tumu = calculateFactorial(5)\n",
        "\n",
        "sonuc = tumu - kusleryanyana\n",
        "print(sonuc)"
      ],
      "metadata": {
        "colab": {
          "base_uri": "https://localhost:8080/"
        },
        "id": "I2-UWIFATe9W",
        "outputId": "316d3229-234a-48b9-f279-403feec8a7d5"
      },
      "execution_count": null,
      "outputs": [
        {
          "output_type": "stream",
          "name": "stdout",
          "text": [
            "72\n"
          ]
        }
      ]
    }
  ]
}