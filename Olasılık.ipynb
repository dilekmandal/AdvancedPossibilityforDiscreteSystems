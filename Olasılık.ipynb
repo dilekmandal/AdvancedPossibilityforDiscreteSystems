{
  "nbformat": 4,
  "nbformat_minor": 0,
  "metadata": {
    "colab": {
      "name": "Olasılık.ipynb",
      "provenance": [],
      "collapsed_sections": [],
      "authorship_tag": "ABX9TyNzHA2V+b03rI/j6OTF3gRx",
      "include_colab_link": true
    },
    "kernelspec": {
      "name": "python3",
      "display_name": "Python 3"
    },
    "language_info": {
      "name": "python"
    }
  },
  "cells": [
    {
      "cell_type": "markdown",
      "metadata": {
        "id": "view-in-github",
        "colab_type": "text"
      },
      "source": [
        "<a href=\"https://colab.research.google.com/github/dilekmandal/Ayrik_Sistemler_icin_Ileri_Olasilik/blob/main/Olas%C4%B1l%C4%B1k.ipynb\" target=\"_parent\"><img src=\"https://colab.research.google.com/assets/colab-badge.svg\" alt=\"Open In Colab\"/></a>"
      ]
    },
    {
      "cell_type": "markdown",
      "source": [
        "**PROBLEM:** Bir  torbada    4  sarı  5  kırmızı  top vardır.  Torbadan peşpeşe  iki  top  çekiliyor. Çekilen topların;\n",
        "\n",
        " a)İkisinin de sarı olma olasılığı \n",
        " \n",
        " b)Birinin sarı diğerinin kırmızı olma olasılığı \n",
        " \n",
        " c)Birincinin  kırmızı  ikincinin  sarı  olma olasılığı  nedir?\n",
        "\n",
        "**ÇÖZÜM:**\n",
        "Torbadaki toplam top sayısı evrensel kümeyi verir.\n",
        "\n",
        " ***Evrensel küme = kırmızı top sayısı + sarı top sayısı***  \n",
        "\n",
        "S(E) = 4+5 = 9\n",
        "\n",
        "**a)** İlk topun sarı gelme olasılığı S1 ise => P(S1) = 4/9\n",
        "\n",
        "İkinci topun sarı gelme olasılığı S2 ise => P(S2) = 3/8\n",
        "\n",
        "Sonuç :\n",
        "\n",
        " ![a.PNG](data:image/png;base64,iVBORw0KGgoAAAANSUhEUgAAAEsAAABKCAYAAADzEqlPAAAAAXNSR0IArs4c6QAAAARnQU1BAACxjwv8YQUAAAAJcEhZcwAADsMAAA7DAcdvqGQAAALbSURBVHhe7Zk7ruIwFIazgLuQ2QxNJDQ1W0FI7GH6sA+aewuqWcMt0PQUdJ7YPs7TQfzOsblC/yedIoj48dnnEJzKkKehLADKAqAsAMoCoCwAygKgLIBlWd+NqavaNN9yjeLur0wlcfiSz7PzaQ62z/2nXOuxIOtqmq2dZKqsdsDbpm1Frva2rUP7aV6up7pbnGKybKf11nacJut6asZiZJeV2V2y0EVk2Ym1HflVWpGGQ74OphrstLwUk2U78umiJsuKKpCCPYVkWUEhVdbLkkIrUZ/K7KsysiT9AnppKIMvJiy7rLaD/bimqNassMsyTGBOblmurvjVj4ZCx+7x4S1kRdDdWV7Wm6ThnHRZMtjho8J7Pjr0rNlZ/ol9EEXSr2VWTvQyw7Ioi8yhLADKAqAsgB8j68+vYWFeiI/f5q98/xVwZwFUm83GPBuXy0Vui7Pb7aL3TeN4PMod67jf79H2l+J8PsudaVS3280g8YjY95diSkoaWlmxth/FGpiGAOmy5Ki43DnV66EsAKYhAGUBjGWN/rWv/Mc+OQEonq6D/rX67mW5xvu3MKsO/2Sg/XtCf6xc9L2h8vGMRWT5DsaTiRziPYk7z5rc5+RnP9fKe9bvZS28Mfa7C3/nF3tdX+JYObZImjyU5dMpYTtLe50w207uXdXNYfy+UjP1R7JmK58qy9IJa6PAsbLPgsEChTKiWLu6Ah/OzfuVCJ3haehpV3hbd8JekoJhwZQWq5PVy5lESkdukL3k+ULoE69XMid9WRPchNO2sBv4ZIDxyejxQllrnov+xQdo619GWfH66mVp7eiZrFAo13Qwb8MPukjdGqS/G4fiAomswc+tUuP9r5OP3KICXpjuXALLNYvMoCwAygKgLADKAqAsAMoCoCwAygKgLADKAqAsAMoCoCwAygKgLADKAqAsAMoCoCwAygKgLADKAqAsAMoCoCwAygKgLADKehpj/gNzQuWoxdvL9QAAAABJRU5ErkJggg==)\n",
        "\n",
        "**b)** Sıra önemli olmadığından örnek uzay ; \n",
        "\n",
        "![2.PNG](data:image/png;base64,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)\n",
        "\n",
        "İstenen olaya S(A) dersek;\n",
        "\n",
        "\n",
        "![c.PNG](data:image/png;base64,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)\n",
        "\n",
        "**c)**  Sıra önemli olduğundan önce kırmızı sonra sarı çekilmesi gerekir. KS olayıdır.\n",
        "\n",
        "![d.PNG](data:image/png;base64,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)"
      ],
      "metadata": {
        "id": "ZWYj_1tfaXxw"
      }
    },
    {
      "cell_type": "code",
      "source": [
        "def calculateFactorial(i):\n",
        "    \n",
        "    if i==1:       \n",
        "        return 1\n",
        "    \n",
        "    else: \n",
        "        return i * calculateFactorial(i-1)\n",
        "    \n",
        "\n",
        "def calculateCombination(x,y):\n",
        "      \n",
        "    if y>x:     \n",
        "          print(\"Hesaplama Yapılamaz\")\n",
        "          \n",
        "    else:      \n",
        "          s = calculateFactorial(x)/ (calculateFactorial(x-y)*calculateFactorial(y))\n",
        "          return s\n",
        "\n",
        "kirmizi_top = 5\n",
        "sari_top = 4\n",
        "\n",
        "evrensel_kume = kirmizi_top + sari_top\n",
        "s1 = sari_top / evrensel_kume\n",
        "print(\"İlk topun sarı gelme olasılığı => (S1) : \",  s1)\n",
        "s2= (sari_top -1) / (evrensel_kume-1)\n",
        "print(\"İkinci topun sarı gelme olasılığı => (S2): \",s2)\n",
        "\n",
        "print(\"İkisinin de sarı olma olasılığı\", s1*s2)\n",
        "\n",
        "\n",
        "evrensel_uzay_b= calculateCombination(9,2)\n",
        "print(\"B şıkkı için örnek uzay:\", evrensel_uzay_b)\n",
        "s3 = calculateCombination(4,1)\n",
        "print(\"İlk çekilenin sarı olma olasılığı => S3: \", s3)\n",
        "s4 = calculateCombination(5,1)\n",
        "print(\"İkinci çekilenin kırmızı olma olasılığı => S4: \",s4 )\n",
        "print(\"B şıkkı için istenen durum:\", s3*s4)\n",
        "\n",
        "print(\"Birinin sarı diğerinin kırmızı olma olasılığı : \", (s3*s4)/ evrensel_uzay_b )\n",
        "\n",
        "\n",
        "print(\"Birincinin kırmızı ikincinin sarı olma olasılığı:\", (kirmizi_top/evrensel_kume)*(sari_top/(evrensel_kume-1)))"
      ],
      "metadata": {
        "colab": {
          "base_uri": "https://localhost:8080/"
        },
        "id": "rd5faaYVbONf",
        "outputId": "a47b8d13-675c-43ef-8a67-8788138079e3"
      },
      "execution_count": 39,
      "outputs": [
        {
          "output_type": "stream",
          "name": "stdout",
          "text": [
            "İlk topun sarı gelme olasılığı => (S1) :  0.4444444444444444\n",
            "İkinci topun sarı gelme olasılığı => (S2):  0.375\n",
            "İkisinin de sarı olma olasılığı 0.16666666666666666\n",
            "B şıkkı için örnek uzay: 36.0\n",
            "İlk çekilenin sarı olma olasılığı => S3:  4.0\n",
            "İkinci çekilenin kırmızı olma olasılığı => S4:  5.0\n",
            "B şıkkı için istenen durum: 20.0\n",
            "Birinin sarı diğerinin kırmızı olma olasılığı :  0.5555555555555556\n",
            "Birincinin kırmızı ikincinin sarı olma olasılığı: 0.2777777777777778\n"
          ]
        }
      ]
    }
  ]
}