{
  "nbformat": 4,
  "nbformat_minor": 0,
  "metadata": {
    "colab": {
      "name": "Güvercin Yuvası Prensibi.ipynb ",
      "provenance": [],
      "collapsed_sections": [],
      "authorship_tag": "ABX9TyNpHUkulZCFGilWf2svHTa5",
      "include_colab_link": true
    },
    "kernelspec": {
      "name": "python3",
      "display_name": "Python 3"
    },
    "language_info": {
      "name": "python"
    }
  },
  "cells": [
    {
      "cell_type": "markdown",
      "metadata": {
        "id": "view-in-github",
        "colab_type": "text"
      },
      "source": [
        "<a href=\"https://colab.research.google.com/github/dilekmandal/AdvancedPossibilityforDiscreteSystems/blob/main/G%C3%BCvercin_Yuvas%C4%B1_Prensibi.ipynb\" target=\"_parent\"><img src=\"https://colab.research.google.com/assets/colab-badge.svg\" alt=\"Open In Colab\"/></a>"
      ]
    },
    {
      "cell_type": "markdown",
      "source": [
        "**Güvercin Yuvası İlkesi**\n",
        "Güvercin Yuvası prensibi genel olarak üç farklı şekilde ifade edilir.\n",
        "\n",
        " *  n+1  top n  farklı kutuya dağıtıldığında en az bir kutuda 1 den fazla top bulunur.\n",
        "\n",
        " *  n   tane güvercin k  tane yuvaya nasıl konulursa konulsun en az bir yuvadaki güvercin sayısı n\\k dan az değildir.\n",
        " *  mn+1  adet bilye n  farklı kutuya dağıtıldığında en az bir kutuda m den fazla (en az m+1  tane) bilye bulunur."
      ],
      "metadata": {
        "id": "0h7LaLpc6U8k"
      }
    },
    {
      "cell_type": "markdown",
      "source": [
        "**Ödev:** Güvercin yuvası prensibi ile ilgili bir örnek bulun ve kodunu Python'da kodlayın. \n",
        "\n",
        "**Problem :** Ahmet, Ayşe ve Alper adına üç çocuk var. Bu çocuklardan Ahmet 4 bilyesi olursa, Ayşe 3 bilyesi olursa, Alper ise 6 bilyesi olursa mutlu olmaktadır. Bu çocuklardan **en az birini** mutlu etmeyi garanti etmek için yanımızda kaç bilye taşımalıyız?\n",
        "\n",
        "**Çözüm :** Eğer Ahmet’e 3, Ayşe’ye 2 ve Alper’e 5 bilye verirsek hiç biri mutlu olmaz. 3 + 2 + 5 = 10 olduğuna göre. Eğer yanımızda bunu bir fazlasını taşırsak kesinlikle bir çocuğu mutlu edeceğimiz garanti olmaktadır. Yani 11 bilye taşımalıyız.\n",
        "\n",
        "* Ahmet'in mutlu olması için gereken bilye sayısı => x, \n",
        "\n",
        "* Ayşe'nin mutlu olması için gereken bilye sayısı => y,\n",
        "\n",
        "* Alper'in mutlu olması için gereken bilye sayısı => z,\n",
        "\n",
        "\n",
        "olsun. En kötü ihtimali düşünüyoruz. Hepsine gerekenden 1 eksik bilye vermiş olalım.Sonra herhangi birine 1 biye daha vermiş olursak o kişi mutlu olmuş olacak. Yani; \n",
        "\n",
        "***Gereken bilye sayısı = (x-1) + (y-1) + (z-1) + 1***\n"
      ],
      "metadata": {
        "id": "oXlwTd9bbQKs"
      }
    },
    {
      "cell_type": "code",
      "source": [
        "print(\"Ahmet'in mutlu olması için gereken minimum bilye sayısını girin : \")\n",
        "x=int(input(\"x: \"))\n"
      ],
      "metadata": {
        "colab": {
          "base_uri": "https://localhost:8080/"
        },
        "id": "eTondUQDysI2",
        "outputId": "9657c718-e83e-4acb-904f-8ecfe752d7d0"
      },
      "execution_count": null,
      "outputs": [
        {
          "name": "stdout",
          "output_type": "stream",
          "text": [
            "Ahmet'in mutlu olması için gereken minimum bilye sayısını girin : \n",
            "x: 4\n"
          ]
        }
      ]
    },
    {
      "cell_type": "code",
      "source": [
        "print(\"Ayşe'nin mutlu olması için gereken minimum bilye sayısını girin : \")\n",
        "y=int(input(\"y: \"))\n"
      ],
      "metadata": {
        "colab": {
          "base_uri": "https://localhost:8080/"
        },
        "outputId": "01524892-bba1-4d55-91fd-f599c02745f0",
        "id": "PWxb1cBS1LI6"
      },
      "execution_count": null,
      "outputs": [
        {
          "name": "stdout",
          "output_type": "stream",
          "text": [
            "Ayşe'nin mutlu olması için gereken minimum bilye sayısını girin : \n",
            "y: 3\n"
          ]
        }
      ]
    },
    {
      "cell_type": "code",
      "source": [
        "print(\"Alper'in mutlu olması için gereken minimum bilye sayısını girin : \")\n",
        "z=int(input(\"z: \"))\n"
      ],
      "metadata": {
        "colab": {
          "base_uri": "https://localhost:8080/"
        },
        "outputId": "5be428d3-0ceb-4bbd-bb22-34181a221bf6",
        "id": "nio0BPip1SQE"
      },
      "execution_count": null,
      "outputs": [
        {
          "name": "stdout",
          "output_type": "stream",
          "text": [
            "Alper'in mutlu olması için gereken minimum bilye sayısını girin : \n",
            "z: 6\n"
          ]
        }
      ]
    },
    {
      "cell_type": "code",
      "source": [
        "bilye_sayisi = (x-1) +(y-1) + (z-1) + 1 \n",
        "print(\"Yanınızda taşımanız gereken bilye sayısı\", bilye_sayisi)"
      ],
      "metadata": {
        "colab": {
          "base_uri": "https://localhost:8080/"
        },
        "id": "mbB4V0hg1KoS",
        "outputId": "f7292b20-4fd0-4c69-a956-1148fc91295b"
      },
      "execution_count": null,
      "outputs": [
        {
          "output_type": "stream",
          "name": "stdout",
          "text": [
            "Yanınızda taşımanız gereken bilye sayısı 11\n"
          ]
        }
      ]
    },
    {
      "cell_type": "markdown",
      "source": [
        "**Teorem :** q1,q2,...qn pozitif sayılar olsun. \n",
        "\n",
        "Eğer  ***q1+q2+..qn-n +1*** nesne n kutuya konulursa, 1. kutu en az q1 nesne, 2. kutu en az q2 nesne ve n.'ci kutu en az n nesne içerir. "
      ],
      "metadata": {
        "id": "vSQn5dorvNGm"
      }
    },
    {
      "cell_type": "markdown",
      "source": [
        "**Problem:** Bir bilgisayar bilimleri bölümünde birinci sınıftan 10 veya ikinci sınıftan 8 veya üçüncü sınıftan 6 veya son sınıftan 4 üyeden oluşan bir öğrenci kulübü oluşturulabilir. Öğrenci kulübünün oluşmasını sağlamak için bölümden rastgele seçmemiz gereken minimum öğrenci sayısı nedir?\n",
        "\n",
        "**Çözüm :** q1=10, q2=8, q3=6, q4=4 ve n=4 olarak elde edilir. \n",
        "Bölüm kulübünün oluşmasını sağlamak için gereken minimum öğrenci sayısı = **10+8+6+4 - 4+1 = 25** olarak elde edilir"
      ],
      "metadata": {
        "id": "3L7yPVTpwllt"
      }
    },
    {
      "cell_type": "code",
      "source": [
        "print(\"Birinci sınıftan seçilmesi gereken öğrenci sayısını girin : \")\n",
        "q1 =int(input(\"q1: \"))\n",
        "print(\"İkinci sınıftan seçilmesi gereken öğrenci sayısını girin : \")\n",
        "q2 =int(input(\"q2: \"))\n",
        "print(\"Üçüncü sınıftan seçilmesi gereken öğrenci sayısını girin : \")\n",
        "q3 =int(input(\"q3: \"))\n",
        "print(\"Dördüncü sınıftan seçilmesi gereken öğrenci sayısını girin : \")\n",
        "q4 =int(input(\"q4: \"))\n",
        "\n",
        "min_ogrenci_sayisi = (q1 + q2 + q3 + q4 - 4 + 1)\n",
        "\n",
        "print(\"Seçilmesi gereken minimum öğrenci sayısı = \", min_ogrenci_sayisi)"
      ],
      "metadata": {
        "colab": {
          "base_uri": "https://localhost:8080/"
        },
        "id": "Mvg2DkqF0JgW",
        "outputId": "f2157f0e-c9dd-44e2-b5c2-ce53b7efa224"
      },
      "execution_count": null,
      "outputs": [
        {
          "output_type": "stream",
          "name": "stdout",
          "text": [
            "Birinci sınıftan seçilmesi gereken öğrenci sayısını girin : \n",
            "q1: 10\n",
            "İkinci sınıftan seçilmesi gereken öğrenci sayısını girin : \n",
            "q2: 8\n",
            "Üçüncü sınıftan seçilmesi gereken öğrenci sayısını girin : \n",
            "q3: 6\n",
            "Dördüncü sınıftan seçilmesi gereken öğrenci sayısını girin : \n",
            "q4: 4\n",
            "Seçilmesi gereken minimum öğrenci sayısı =  25\n"
          ]
        }
      ]
    },
    {
      "cell_type": "markdown",
      "source": [
        "**Problem :** Bir kutuda 6 kırmızı, 8 yeşil, 10 mavi, 12 sarı ve 15 beyaz top bulunmaktadır. Aynı renkten 9 top elde etmek için kutudan rastgele seçmemiz gereken en az top sayısı nedir?\n",
        "\n",
        "**Çözüm :** En kötü durumu düşünüyoruz. Yani hepsinden 8'er tane seçtiğimiz durumu. Sonra hangi renk topu seçersek seçelim 9 tane aynı renk seçmiş oluyoruz. Ama kırmızı ve yeşil toplarımızın sayısı 9'dan az olduğu için bunların hepsini almış farz edip;  mavi, sarı ve beyaz toplardan 8'er tane alıyoruz.  Yani 8 mavi, 8 sarı ve 8 beyaz top seçtik diyelim. Sonra mavi, sarı veya beyaz içinden 1 tane daha seçtiğimizde aynı renge sahip 9 topu elde etmiş oluyoruz. En az **6+8+8+8+8+1 = 39** top seçersek aynı renge sahip 9 top elde etmiş oluruz."
      ],
      "metadata": {
        "id": "IQ0TyGxL2oOm"
      }
    },
    {
      "cell_type": "code",
      "source": [
        "liste = []\n",
        "print(\"Kutu içinde yer alan topların sayısını girin: \")\n",
        "kirmizi = liste.append(int(input(\"Kırmızı Top Sayısı : \")))\n",
        "yesil = liste.append(int(input(\"Yeşil Top Sayısı : \")))\n",
        "mavi = liste.append(int(input(\"Mavi Top Sayısı : \")))\n",
        "sari = liste.append(int(input(\"Sarı Top Sayısı : \")))\n",
        "beyaz = liste.append(int(input(\"Beyaz Top Sayısı : \")))\n",
        "\n",
        "print(\"Liste\",liste)\n",
        "\n",
        "#liste.sort()\n",
        "#print(liste)\n",
        "\n",
        "same_color = int(input(\"Aynı renk olmasını istediğiniz top sayısı : \"))\n",
        "\n",
        "\n",
        "liste1 =[]\n",
        "liste2 =[]\n",
        "i=0\n",
        "while i < len(liste):\n",
        "  if(same_color < liste[i]):\n",
        "     liste1.append(liste[i])\n",
        "     i+=1;\n",
        "  else:\n",
        "     liste2.append(liste[i])\n",
        "     i+=1;\n",
        "\n",
        "print(liste1)\n",
        "print(liste2)\n",
        "\n",
        "min_top_sayisi = len(liste1) * (same_color-1)+ 1 + sum(liste2)\n",
        "\n",
        "print(same_color, \"topun aynı renk olması için seçilmesi gereken minimum top sayısı :  \", min_top_sayisi)\n",
        "\n"
      ],
      "metadata": {
        "colab": {
          "base_uri": "https://localhost:8080/"
        },
        "id": "A-qxUq464rBo",
        "outputId": "19d7510f-be59-4072-b4b7-76e9875378d4"
      },
      "execution_count": null,
      "outputs": [
        {
          "output_type": "stream",
          "name": "stdout",
          "text": [
            "Kutu içinde yer alan topların sayısını girin: \n",
            "Kırmızı Top Sayısı : 6\n",
            "Yeşil Top Sayısı : 8\n",
            "Mavi Top Sayısı : 10\n",
            "Sarı Top Sayısı : 12\n",
            "Beyaz Top Sayısı : 15\n",
            "Liste [6, 8, 10, 12, 15]\n",
            "Aynı renk olmasını istediğiniz top sayısı : 9\n",
            "[10, 12, 15]\n",
            "[6, 8]\n",
            "9 topun aynı renk olması için seçilmesi gereken minimum top sayısı 39\n"
          ]
        }
      ]
    }
  ]
}